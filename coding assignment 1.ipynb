{
 "cells": [
  {
   "cell_type": "markdown",
   "metadata": {},
   "source": [
    "## Part 1 Scratching data\n",
    "- use api of coinmarketcap.com to fetch data of cryptos"
   ]
  },
  {
   "cell_type": "code",
   "execution_count": null,
   "metadata": {},
   "outputs": [
    {
     "name": "stdout",
     "output_type": "stream",
     "text": [
      "         id         name    symbol         slug  num_market_pairs  \\\n",
      "0         1      Bitcoin       BTC      bitcoin             10485   \n",
      "1      1027     Ethereum       ETH     ethereum              7481   \n",
      "2       825  Tether USDt      USDT       tether             63153   \n",
      "3      1839          BNB       BNB          bnb              1658   \n",
      "4        52          XRP       XRP          xrp              1106   \n",
      "...     ...          ...       ...          ...               ...   \n",
      "4995  24396     AEROTYME       IND     aerotyme                 5   \n",
      "4996  22753    Dinerobet    DINERO    dinerobet                 1   \n",
      "4997  24844  Quick Intel    QUICKI  quick-intel                 2   \n",
      "4998  25368     100xgems  100XGEMS     100xgems                 3   \n",
      "4999  20267  Pollen Coin       PCN  pollen-coin                 2   \n",
      "\n",
      "                    date_added  \\\n",
      "0     2010-07-13T00:00:00.000Z   \n",
      "1     2015-08-07T00:00:00.000Z   \n",
      "2     2015-02-25T00:00:00.000Z   \n",
      "3     2017-07-25T00:00:00.000Z   \n",
      "4     2013-08-04T00:00:00.000Z   \n",
      "...                        ...   \n",
      "4995  2023-04-11T22:56:34.000Z   \n",
      "4996  2022-11-22T07:04:13.000Z   \n",
      "4997  2023-05-01T13:09:16.000Z   \n",
      "4998  2023-05-18T05:16:46.000Z   \n",
      "4999  2022-05-24T14:58:53.000Z   \n",
      "\n",
      "                                                   tags    max_supply  \\\n",
      "0     [mineable, pow, sha-256, store-of-value, state...  2.100000e+07   \n",
      "1     [pos, smart-contracts, ethereum-ecosystem, coi...           NaN   \n",
      "2     [payments, stablecoin, asset-backed-stablecoin...           NaN   \n",
      "3     [marketplace, centralized-exchange, payments, ...           NaN   \n",
      "4     [medium-of-exchange, enterprise-solutions, arr...  1.000000e+11   \n",
      "...                                                 ...           ...   \n",
      "4995                                                 []  5.000000e+08   \n",
      "4996                                                 []  1.000000e+09   \n",
      "4997                                     [telegram-bot]  1.000000e+12   \n",
      "4998                                                 []  1.000000e+09   \n",
      "4999                                                 []           NaN   \n",
      "\n",
      "      circulating_supply       total_supply  ...  quote.USD.market_cap  \\\n",
      "0           1.950406e+07           19504056  ...          5.401950e+11   \n",
      "1           1.202418e+08   120241846.704337  ...          1.979894e+11   \n",
      "2           8.336509e+10  86425711834.22702  ...          8.337782e+10   \n",
      "3           1.538462e+08   153846171.204125  ...          3.280919e+10   \n",
      "4           5.331236e+10        99988397127  ...          2.829194e+10   \n",
      "...                  ...                ...  ...                   ...   \n",
      "4995        0.000000e+00          500000000  ...          0.000000e+00   \n",
      "4996        0.000000e+00         1000000000  ...          0.000000e+00   \n",
      "4997        0.000000e+00      1000000000000  ...          0.000000e+00   \n",
      "4998        0.000000e+00         1000000000  ...          0.000000e+00   \n",
      "4999        0.000000e+00         1000000000  ...          0.000000e+00   \n",
      "\n",
      "      quote.USD.market_cap_dominance  quote.USD.fully_diluted_market_cap  \\\n",
      "0                            49.6607                        5.816275e+11   \n",
      "1                            18.1978                        1.979894e+11   \n",
      "2                             7.6643                        8.643890e+10   \n",
      "3                             3.0162                        3.280919e+10   \n",
      "4                             2.6004                        5.306826e+10   \n",
      "...                              ...                                 ...   \n",
      "4995                          0.0000                        1.329241e+05   \n",
      "4996                          0.0000                        7.889196e+05   \n",
      "4997                          0.0000                        9.778530e+05   \n",
      "4998                          0.0000                        3.340918e+05   \n",
      "4999                          0.0000                        4.101038e+07   \n",
      "\n",
      "      quote.USD.tvl    quote.USD.last_updated  platform.id  \\\n",
      "0               NaN  2023-10-04T20:34:00.000Z          NaN   \n",
      "1               NaN  2023-10-04T20:34:00.000Z          NaN   \n",
      "2               NaN  2023-10-04T20:34:00.000Z       1027.0   \n",
      "3               NaN  2023-10-04T20:34:00.000Z          NaN   \n",
      "4               NaN  2023-10-04T20:34:00.000Z          NaN   \n",
      "...             ...                       ...          ...   \n",
      "4995            NaN  2023-10-04T20:34:00.000Z       1839.0   \n",
      "4996            NaN  2023-10-04T20:34:00.000Z       1027.0   \n",
      "4997            NaN  2023-10-04T20:34:00.000Z      11841.0   \n",
      "4998            NaN  2023-10-04T20:34:00.000Z       1027.0   \n",
      "4999            NaN  2023-10-04T20:34:00.000Z       5426.0   \n",
      "\n",
      "                platform.name  platform.symbol  platform.slug  \\\n",
      "0                         NaN              NaN            NaN   \n",
      "1                         NaN              NaN            NaN   \n",
      "2                    Ethereum              ETH       ethereum   \n",
      "3                         NaN              NaN            NaN   \n",
      "4                         NaN              NaN            NaN   \n",
      "...                       ...              ...            ...   \n",
      "4995  BNB Smart Chain (BEP20)              BNB            bnb   \n",
      "4996                 Ethereum              ETH       ethereum   \n",
      "4997                 Arbitrum              ARB       arbitrum   \n",
      "4998                 Ethereum              ETH       ethereum   \n",
      "4999                   Solana              SOL         solana   \n",
      "\n",
      "                            platform.token_address  \n",
      "0                                              NaN  \n",
      "1                                              NaN  \n",
      "2       0xdac17f958d2ee523a2206206994597c13d831ec7  \n",
      "3                                              NaN  \n",
      "4                                              NaN  \n",
      "...                                            ...  \n",
      "4995    0x7c59c88fc352ccb7305212a8afd797cdd6a8a845  \n",
      "4996    0xa3ad8c7ab6b731045b5b16e3fdf77975c71abe79  \n",
      "4997    0x6d038130B9b379A373B1D33a29d5904ED1bb9026  \n",
      "4998    0x62aa9b2830cb02dc6951c3cc3a35035df0b77432  \n",
      "4999  GWsZd8k85q2ie9SNycVSLeKkX7HLZfSsgx6Jdat9cjY1  \n",
      "\n",
      "[5000 rows x 36 columns]\n"
     ]
    }
   ],
   "source": [
    "from requests import Request, Session\n",
    "from requests.exceptions import ConnectionError, Timeout, TooManyRedirects\n",
    "import json\n",
    "url = 'https://pro-api.coinmarketcap.com/v1/cryptocurrency/listings/latest'\n",
    "parameters = {\n",
    "  'start':'1',\n",
    "  'limit':'5000',\n",
    "  'convert':'USD'\n",
    "}\n",
    "headers = {\n",
    "  'Accepts': 'application/json',\n",
    "  'X-CMC_PRO_API_KEY': 'd6decf19-56fb-4957-8de3-df5ccafabb91',\n",
    "}\n",
    "\n",
    "session = Session()\n",
    "session.headers.update(headers)\n",
    "\n",
    "try:\n",
    "  response = session.get(url, params=parameters)\n",
    "  data = json.loads(response.text)\n",
    "  import pandas as pd\n",
    "  df = pd.json_normalize(data, record_path='data')\n",
    "  print(df)\n",
    "except (ConnectionError, Timeout, TooManyRedirects) as e:\n",
    "  print(e)"
   ]
  },
  {
   "cell_type": "markdown",
   "metadata": {},
   "source": [
    "There are nested json data in the coming data, normalize them with pd.json normalize"
   ]
  },
  {
   "cell_type": "markdown",
   "metadata": {},
   "source": [
    "## Tansformation or cleaning\n",
    "-  mainly nothing to clear. Remove time in date_added."
   ]
  },
  {
   "cell_type": "code",
   "execution_count": 5,
   "metadata": {},
   "outputs": [
    {
     "name": "stdout",
     "output_type": "stream",
     "text": [
      "         id          name        symbol          slug  num_market_pairs  \\\n",
      "907    7703     MileVerse           MVC     mileverse                 5   \n",
      "3737  27087        Caacon            CC        caacon                 3   \n",
      "4318  17566      AlphaDEX          ROAR      alphadex                 6   \n",
      "3116  21032       Redluna       REDLUNA       redluna                 2   \n",
      "4341  23420  King Finance          KING  king-finance                 2   \n",
      "...     ...           ...           ...           ...               ...   \n",
      "2808  25656       Risitas        RISITA       risitas                 2   \n",
      "2976  28205  JOEBIDEN2024  JOEBIDEN2024  joebiden2024                 1   \n",
      "4241  17769         Felix           FLX   felix-token                 2   \n",
      "2108   8752       Landbox          LAND       landbox                 4   \n",
      "2128   3266       Carebit          CARE       carebit                 2   \n",
      "\n",
      "      date_added                   tags    max_supply  circulating_supply  \\\n",
      "907   2020-11-17                     []  3.000000e+09        2.748530e+09   \n",
      "3737  2023-10-03             [gambling]  1.000000e+08        0.000000e+00   \n",
      "4318  2022-01-22                     []  1.164000e+08        0.000000e+00   \n",
      "3116  2022-07-19                     []  1.000000e+12        0.000000e+00   \n",
      "4341  2023-02-09  [binance-smart-chain]  7.683547e+07        0.000000e+00   \n",
      "...          ...                    ...           ...                 ...   \n",
      "2808  2023-05-22                [memes]  4.206900e+10        0.000000e+00   \n",
      "2976  2023-10-03                [memes]  8.128350e+17        0.000000e+00   \n",
      "4241  2022-02-01                     []  1.000000e+12        0.000000e+00   \n",
      "2108  2021-04-10            [bnb-chain]  2.000000e+10        7.638523e+07   \n",
      "2128  2018-09-11             [mineable]  2.500000e+08        0.000000e+00   \n",
      "\n",
      "            total_supply  ...  quote.USD.market_cap  \\\n",
      "907           3000000000  ...          5.385794e+06   \n",
      "3737            78000000  ...          0.000000e+00   \n",
      "4318           116400000  ...          0.000000e+00   \n",
      "3116        967000000000  ...          0.000000e+00   \n",
      "4341            76402072  ...          0.000000e+00   \n",
      "...                  ...  ...                   ...   \n",
      "2808         42069000000  ...          0.000000e+00   \n",
      "2976  812835010000000000  ...          0.000000e+00   \n",
      "4241       1000000000000  ...          0.000000e+00   \n",
      "2108         20000000000  ...          1.527729e+03   \n",
      "2128    162246850.439575  ...          0.000000e+00   \n",
      "\n",
      "      quote.USD.market_cap_dominance  quote.USD.fully_diluted_market_cap  \\\n",
      "907                              0.0                        5.878554e+06   \n",
      "3737                             0.0                        1.784702e+06   \n",
      "4318                             0.0                        2.144849e+07   \n",
      "3116                             0.0                        4.275825e+05   \n",
      "4341                             0.0                        1.055546e+07   \n",
      "...                              ...                                 ...   \n",
      "2808                             0.0                        1.872385e+08   \n",
      "2976                             0.0                        4.700000e-01   \n",
      "4241                             0.0                        2.933126e+04   \n",
      "2108                             0.0                        4.000063e+05   \n",
      "2128                             0.0                        4.100650e+04   \n",
      "\n",
      "      quote.USD.tvl    quote.USD.last_updated  platform.id  \\\n",
      "907             NaN  2023-10-03T23:35:00.000Z       1027.0   \n",
      "3737            NaN  2023-10-03T23:35:00.000Z       1027.0   \n",
      "4318            NaN  2023-10-03T23:35:00.000Z       1839.0   \n",
      "3116            NaN  2023-10-03T23:35:00.000Z       1839.0   \n",
      "4341            NaN  2023-10-03T23:35:00.000Z       1839.0   \n",
      "...             ...                       ...          ...   \n",
      "2808            NaN  2023-10-03T23:35:00.000Z       1027.0   \n",
      "2976            NaN  2023-10-03T23:35:00.000Z       1027.0   \n",
      "4241            NaN  2023-10-03T23:35:00.000Z       1839.0   \n",
      "2108            NaN  2023-10-03T23:35:00.000Z       1027.0   \n",
      "2128            NaN  2023-10-03T23:35:00.000Z          NaN   \n",
      "\n",
      "                platform.name  platform.symbol  platform.slug  \\\n",
      "907                  Ethereum              ETH       ethereum   \n",
      "3737                 Ethereum              ETH       ethereum   \n",
      "4318  BNB Smart Chain (BEP20)              BNB            bnb   \n",
      "3116  BNB Smart Chain (BEP20)              BNB            bnb   \n",
      "4341  BNB Smart Chain (BEP20)              BNB            bnb   \n",
      "...                       ...              ...            ...   \n",
      "2808                 Ethereum              ETH       ethereum   \n",
      "2976                 Ethereum              ETH       ethereum   \n",
      "4241  BNB Smart Chain (BEP20)              BNB            bnb   \n",
      "2108                 Ethereum              ETH       ethereum   \n",
      "2128                      NaN              NaN            NaN   \n",
      "\n",
      "                          platform.token_address  \n",
      "907   0x581911b360B6eB3a14eF295a83a91DC2bCE2D6f7  \n",
      "3737  0x597981eac8a293054a1826c7b60cbf92972a36c1  \n",
      "4318  0xe561Ebd0D7f9b2BD81DA6e7DA655030DCb0a926b  \n",
      "3116  0x376c4773c3280a8f029aeb674acafdce9b20d26b  \n",
      "4341  0x74f08af7528ffb751e3a435ddd779b5c4565e684  \n",
      "...                                          ...  \n",
      "2808  0xe6F47303032a09c8C0F8EBb713c00e6eD345E8c3  \n",
      "2976  0x633Fe30f0840f30b5ae510c9796019e5d288dDc5  \n",
      "4241  0x34e4a7454cae15990850166a8771cb8408b62a26  \n",
      "2108  0x0e2ef8aecb3c01ad5d596f1b67134e178199984d  \n",
      "2128                                         NaN  \n",
      "\n",
      "[5000 rows x 36 columns]\n"
     ]
    }
   ],
   "source": [
    "def reset_date(str):\n",
    "    return str.split('T')[0]\n",
    "df['date_added'] = df['date_added'].apply(reset_date)\n",
    "print(df)\n",
    "df.to_csv('data.csv')"
   ]
  },
  {
   "cell_type": "markdown",
   "metadata": {},
   "source": [
    "Now some simple plots, for example, highest price"
   ]
  },
  {
   "cell_type": "code",
   "execution_count": 3,
   "metadata": {},
   "outputs": [
    {
     "data": {
      "image/png": "[encoded data removed]",
      "text/plain": [
       "<Figure size 432x288 with 1 Axes>"
      ]
     },
     "metadata": {
      "needs_background": "light"
     },
     "output_type": "display_data"
    },
    {
     "data": {
      "text/plain": [
       "<Figure size 2880x288 with 0 Axes>"
      ]
     },
     "metadata": {},
     "output_type": "display_data"
    }
   ],
   "source": [
    "from matplotlib import pyplot as plt\n",
    "import pandas as pd\n",
    "df = pd.read_csv('data.csv')\n",
    "df.sort_values(by = ['quote.USD.price'], ascending=False, inplace = True)\n",
    "plt.bar( df['symbol'].head(20),df['quote.USD.price'].head(20),color = 'blue', width=0.5)\n",
    "plt.xlabel('Currency name')\n",
    "plt.ylabel('Price (USD)')\n",
    "plt.xticks(rotation = 'vertical')\n",
    "plt.figure().set_figwidth(40)\n",
    "plt.show()"
   ]
  },
  {
   "cell_type": "markdown",
   "metadata": {},
   "source": [
    "Surprisingly BTC is not the most expensive of all these currencies. It is clear though, that most of them are BTC related."
   ]
  },
  {
   "cell_type": "markdown",
   "metadata": {},
   "source": [
    "Or, say change in percant of price in 24H"
   ]
  },
  {
   "cell_type": "code",
   "execution_count": 5,
   "metadata": {},
   "outputs": [
    {
     "data": {
      "image/png": "[encoded data removed]",
      "text/plain": [
       "<Figure size 432x288 with 1 Axes>"
      ]
     },
     "metadata": {
      "needs_background": "light"
     },
     "output_type": "display_data"
    },
    {
     "data": {
      "text/plain": [
       "<Figure size 2880x288 with 0 Axes>"
      ]
     },
     "metadata": {},
     "output_type": "display_data"
    },
    {
     "data": {
      "image/png": "[encoded data removed]",
      "text/plain": [
       "<Figure size 432x288 with 1 Axes>"
      ]
     },
     "metadata": {
      "needs_background": "light"
     },
     "output_type": "display_data"
    },
    {
     "data": {
      "text/plain": [
       "<Figure size 2880x288 with 0 Axes>"
      ]
     },
     "metadata": {},
     "output_type": "display_data"
    }
   ],
   "source": [
    "df.sort_values(by = ['quote.USD.percent_change_24h'], ascending=False, inplace = True)\n",
    "plt.bar( df['symbol'].head(20),df['quote.USD.percent_change_24h'].head(20),color = 'blue', width=0.5)\n",
    "plt.xlabel('Currency name')\n",
    "plt.ylabel('change (%)')\n",
    "plt.xticks(rotation = 'vertical')\n",
    "plt.yscale('log')\n",
    "plt.figure().set_figwidth(40)\n",
    "plt.show()\n",
    "df.sort_values(by = ['quote.USD.percent_change_24h'], ascending=True, inplace = True)\n",
    "plt.bar( df['symbol'].head(20),df['quote.USD.percent_change_24h'].head(20),color = 'red', width=0.5)\n",
    "plt.xlabel('Currency name')\n",
    "plt.ylabel('change (%)')\n",
    "plt.xticks(rotation = 'vertical')\n",
    "plt.yscale('linear')\n",
    "plt.figure().set_figwidth(40)\n",
    "plt.show()"
   ]
  },
  {
   "cell_type": "markdown",
   "metadata": {},
   "source": [
    "It really impresses me how some crytos' price can rise or drop in very short time lol. 1000 times higher price, huh. And it surprises me that actually everyday there would be some currency that price drop nearly 100%. IT shows me how unstable these things are and we definitely should not invest on them.\n"
   ]
  },
  {
   "cell_type": "markdown",
   "metadata": {},
   "source": [
    "- a box plot of price"
   ]
  },
  {
   "cell_type": "code",
   "execution_count": 4,
   "metadata": {},
   "outputs": [
    {
     "data": {
      "image/png": "[encoded data removed]",
      "text/plain": [
       "<Figure size 432x288 with 1 Axes>"
      ]
     },
     "metadata": {
      "needs_background": "light"
     },
     "output_type": "display_data"
    }
   ],
   "source": [
    "plt.boxplot(df['quote.USD.price'])\n",
    "plt.show()"
   ]
  },
  {
   "cell_type": "markdown",
   "metadata": {},
   "source": [
    "Seems that most cryptos have very low prices. Only a few of them have prices that are higher than 10k."
   ]
  }
 ],
 "metadata": {
  "kernelspec": {
   "display_name": "Python 3.7.4 64-bit",
   "language": "python",
   "name": "python3"
  },
  "language_info": {
   "codemirror_mode": {
    "name": "ipython",
    "version": 3
   },
   "file_extension": ".py",
   "mimetype": "text/x-python",
   "name": "python",
   "nbconvert_exporter": "python",
   "pygments_lexer": "ipython3",
   "version": "3.7.4"
  },
  "orig_nbformat": 4,
  "vscode": {
   "interpreter": {
    "hash": "5109d816b82be14675a6b11f8e0f0d2e80f029176ed3710d54e125caa8520dfd"
   }
  }
 },
 "nbformat": 4,
 "nbformat_minor": 2
}
