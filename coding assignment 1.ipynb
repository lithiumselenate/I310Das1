{
 "cells": [
  {
   "cell_type": "markdown",
   "metadata": {},
   "source": [
    "## Part 1 Scratching data\n",
    "- use api of coinmarketcap.com to fetch data of cryptos"
   ]
  },
  {
   "cell_type": "code",
   "execution_count": 57,
   "metadata": {},
   "outputs": [
    {
     "name": "stdout",
     "output_type": "stream",
     "text": [
      "         id                    name    symbol                    slug  \\\n",
      "0         1                 Bitcoin       BTC                 bitcoin   \n",
      "1      1027                Ethereum       ETH                ethereum   \n",
      "2       825             Tether USDt      USDT                  tether   \n",
      "3      1839                     BNB       BNB                     bnb   \n",
      "4        52                     XRP       XRP                     xrp   \n",
      "...     ...                     ...       ...                     ...   \n",
      "4995  23348  Decentralized Pictures      FILM  decentralized-pictures   \n",
      "4996  27753      Mountain Sea World       MAW      mountain-sea-world   \n",
      "4997  18853               MonoMoney      MONO               monomoney   \n",
      "4998  26767                PEPEARMY  PEPEARMY                pepearmy   \n",
      "4999  22899          Digimon Rabbit       DRB          digimon-rabbit   \n",
      "\n",
      "      num_market_pairs                date_added  \\\n",
      "0                10485  2010-07-13T00:00:00.000Z   \n",
      "1                 7479  2015-08-07T00:00:00.000Z   \n",
      "2                63108  2015-02-25T00:00:00.000Z   \n",
      "3                 1656  2017-07-25T00:00:00.000Z   \n",
      "4                 1105  2013-08-04T00:00:00.000Z   \n",
      "...                ...                       ...   \n",
      "4995                 3  2023-02-01T01:49:35.000Z   \n",
      "4996                 3  2023-08-04T09:48:57.000Z   \n",
      "4997                 2  2022-03-16T10:21:32.000Z   \n",
      "4998                 2  2023-06-07T09:46:17.000Z   \n",
      "4999                 3  2022-12-07T00:00:59.000Z   \n",
      "\n",
      "                                                   tags    max_supply  \\\n",
      "0     [mineable, pow, sha-256, store-of-value, state...  2.100000e+07   \n",
      "1     [pos, smart-contracts, ethereum-ecosystem, coi...           NaN   \n",
      "2     [payments, stablecoin, asset-backed-stablecoin...           NaN   \n",
      "3     [marketplace, centralized-exchange, payments, ...           NaN   \n",
      "4     [medium-of-exchange, enterprise-solutions, arr...  1.000000e+11   \n",
      "...                                                 ...           ...   \n",
      "4995                                                 []  0.000000e+00   \n",
      "4996                                                 []  1.000000e+08   \n",
      "4997                                                 []  5.000000e+08   \n",
      "4998                                            [memes]  4.200000e+14   \n",
      "4999                                                 []  4.200000e+17   \n",
      "\n",
      "      circulating_supply        total_supply  ...  quote.USD.market_cap  \\\n",
      "0           1.950331e+07            19503306  ...          5.336485e+11   \n",
      "1           1.202407e+08    120240729.475341  ...          1.987411e+11   \n",
      "2           8.334086e+10   86425711834.22702  ...          8.334216e+10   \n",
      "3           1.538463e+08    153846288.492969  ...          3.281262e+10   \n",
      "4           5.331236e+10         99988397127  ...          2.739792e+10   \n",
      "...                  ...                 ...  ...                   ...   \n",
      "4995        0.000000e+00           131241265  ...          0.000000e+00   \n",
      "4996        0.000000e+00           100000000  ...          0.000000e+00   \n",
      "4997        0.000000e+00           500000000  ...          0.000000e+00   \n",
      "4998        0.000000e+00     420000000000000  ...          0.000000e+00   \n",
      "4999        0.000000e+00  420000000000000000  ...          0.000000e+00   \n",
      "\n",
      "      quote.USD.market_cap_dominance  quote.USD.fully_diluted_market_cap  \\\n",
      "0                            49.3269                        5.746009e+11   \n",
      "1                            18.3722                        1.987411e+11   \n",
      "2                             7.7038                        8.642706e+10   \n",
      "3                             3.0331                        3.281262e+10   \n",
      "4                             2.5327                        5.139131e+10   \n",
      "...                              ...                                 ...   \n",
      "4995                          0.0000                        5.871572e+06   \n",
      "4996                          0.0000                        5.902408e+05   \n",
      "4997                          0.0000                        4.905303e+06   \n",
      "4998                          0.0000                        6.107195e+04   \n",
      "4999                          0.0000                        9.413522e+05   \n",
      "\n",
      "      quote.USD.tvl    quote.USD.last_updated  platform.id  \\\n",
      "0               NaN  2023-10-03T22:18:00.000Z          NaN   \n",
      "1               NaN  2023-10-03T22:18:00.000Z          NaN   \n",
      "2               NaN  2023-10-03T22:18:00.000Z       1027.0   \n",
      "3               NaN  2023-10-03T22:18:00.000Z          NaN   \n",
      "4               NaN  2023-10-03T22:18:00.000Z          NaN   \n",
      "...             ...                       ...          ...   \n",
      "4995            NaN  2023-10-03T22:18:00.000Z          NaN   \n",
      "4996            NaN  2023-10-03T22:18:00.000Z      11841.0   \n",
      "4997            NaN  2023-10-03T22:18:00.000Z       1839.0   \n",
      "4998            NaN  2023-10-03T22:18:00.000Z       1839.0   \n",
      "4999            NaN  2023-10-03T22:18:00.000Z       1839.0   \n",
      "\n",
      "                platform.name  platform.symbol  platform.slug  \\\n",
      "0                         NaN              NaN            NaN   \n",
      "1                         NaN              NaN            NaN   \n",
      "2                    Ethereum              ETH       ethereum   \n",
      "3                         NaN              NaN            NaN   \n",
      "4                         NaN              NaN            NaN   \n",
      "...                       ...              ...            ...   \n",
      "4995                      NaN              NaN            NaN   \n",
      "4996                 Arbitrum              ARB       arbitrum   \n",
      "4997  BNB Smart Chain (BEP20)              BNB            bnb   \n",
      "4998  BNB Smart Chain (BEP20)              BNB            bnb   \n",
      "4999  BNB Smart Chain (BEP20)              BNB            bnb   \n",
      "\n",
      "                          platform.token_address  \n",
      "0                                            NaN  \n",
      "1                                            NaN  \n",
      "2     0xdac17f958d2ee523a2206206994597c13d831ec7  \n",
      "3                                            NaN  \n",
      "4                                            NaN  \n",
      "...                                          ...  \n",
      "4995                                         NaN  \n",
      "4996  0xb4e3eeec43ebc04f28d31f2c021d15e9f56f0e54  \n",
      "4997  0x7317dA9c15303bfb434690586C3373B94fb2dd31  \n",
      "4998  0xc3c5586F10893280F00ceff931d74991682DBfF8  \n",
      "4999  0x485d37ca1c8d4e0b5b11b87604816a4843c079ed  \n",
      "\n",
      "[5000 rows x 36 columns]\n"
     ]
    }
   ],
   "source": [
    "from requests import Request, Session\n",
    "from requests.exceptions import ConnectionError, Timeout, TooManyRedirects\n",
    "import json\n",
    "url = 'https://pro-api.coinmarketcap.com/v1/cryptocurrency/listings/latest'\n",
    "parameters = {\n",
    "  'start':'1',\n",
    "  'limit':'5000',\n",
    "  'convert':'USD'\n",
    "}\n",
    "headers = {\n",
    "  'Accepts': 'application/json',\n",
    "  'X-CMC_PRO_API_KEY': 'd6decf19-56fb-4957-8de3-df5ccafabb91',\n",
    "}\n",
    "\n",
    "session = Session()\n",
    "session.headers.update(headers)\n",
    "\n",
    "try:\n",
    "  response = session.get(url, params=parameters)\n",
    "  data = json.loads(response.text)\n",
    "  import pandas as pd\n",
    "  df = pd.json_normalize(data, record_path='data')\n",
    "  print(df)\n",
    "except (ConnectionError, Timeout, TooManyRedirects) as e:\n",
    "  print(e)"
   ]
  },
  {
   "cell_type": "markdown",
   "metadata": {},
   "source": [
    "There are nested json data in the coming data, normalize them with pd.json normalize"
   ]
  },
  {
   "cell_type": "markdown",
   "metadata": {},
   "source": [
    "## Tansformation or cleaning\n",
    "-  mainly nothing to clear. Remove time in date_added."
   ]
  },
  {
   "cell_type": "code",
   "execution_count": 59,
   "metadata": {},
   "outputs": [
    {
     "name": "stdout",
     "output_type": "stream",
     "text": [
      "         id                    name    symbol                    slug  \\\n",
      "0         1                 Bitcoin       BTC                 bitcoin   \n",
      "1      1027                Ethereum       ETH                ethereum   \n",
      "2       825             Tether USDt      USDT                  tether   \n",
      "3      1839                     BNB       BNB                     bnb   \n",
      "4        52                     XRP       XRP                     xrp   \n",
      "...     ...                     ...       ...                     ...   \n",
      "4995  23348  Decentralized Pictures      FILM  decentralized-pictures   \n",
      "4996  27753      Mountain Sea World       MAW      mountain-sea-world   \n",
      "4997  18853               MonoMoney      MONO               monomoney   \n",
      "4998  26767                PEPEARMY  PEPEARMY                pepearmy   \n",
      "4999  22899          Digimon Rabbit       DRB          digimon-rabbit   \n",
      "\n",
      "      num_market_pairs  date_added  \\\n",
      "0                10485  2010-07-13   \n",
      "1                 7479  2015-08-07   \n",
      "2                63108  2015-02-25   \n",
      "3                 1656  2017-07-25   \n",
      "4                 1105  2013-08-04   \n",
      "...                ...         ...   \n",
      "4995                 3  2023-02-01   \n",
      "4996                 3  2023-08-04   \n",
      "4997                 2  2022-03-16   \n",
      "4998                 2  2023-06-07   \n",
      "4999                 3  2022-12-07   \n",
      "\n",
      "                                                   tags    max_supply  \\\n",
      "0     [mineable, pow, sha-256, store-of-value, state...  2.100000e+07   \n",
      "1     [pos, smart-contracts, ethereum-ecosystem, coi...           NaN   \n",
      "2     [payments, stablecoin, asset-backed-stablecoin...           NaN   \n",
      "3     [marketplace, centralized-exchange, payments, ...           NaN   \n",
      "4     [medium-of-exchange, enterprise-solutions, arr...  1.000000e+11   \n",
      "...                                                 ...           ...   \n",
      "4995                                                 []  0.000000e+00   \n",
      "4996                                                 []  1.000000e+08   \n",
      "4997                                                 []  5.000000e+08   \n",
      "4998                                            [memes]  4.200000e+14   \n",
      "4999                                                 []  4.200000e+17   \n",
      "\n",
      "      circulating_supply        total_supply  ...  quote.USD.market_cap  \\\n",
      "0           1.950331e+07            19503306  ...          5.336485e+11   \n",
      "1           1.202407e+08    120240729.475341  ...          1.987411e+11   \n",
      "2           8.334086e+10   86425711834.22702  ...          8.334216e+10   \n",
      "3           1.538463e+08    153846288.492969  ...          3.281262e+10   \n",
      "4           5.331236e+10         99988397127  ...          2.739792e+10   \n",
      "...                  ...                 ...  ...                   ...   \n",
      "4995        0.000000e+00           131241265  ...          0.000000e+00   \n",
      "4996        0.000000e+00           100000000  ...          0.000000e+00   \n",
      "4997        0.000000e+00           500000000  ...          0.000000e+00   \n",
      "4998        0.000000e+00     420000000000000  ...          0.000000e+00   \n",
      "4999        0.000000e+00  420000000000000000  ...          0.000000e+00   \n",
      "\n",
      "      quote.USD.market_cap_dominance  quote.USD.fully_diluted_market_cap  \\\n",
      "0                            49.3269                        5.746009e+11   \n",
      "1                            18.3722                        1.987411e+11   \n",
      "2                             7.7038                        8.642706e+10   \n",
      "3                             3.0331                        3.281262e+10   \n",
      "4                             2.5327                        5.139131e+10   \n",
      "...                              ...                                 ...   \n",
      "4995                          0.0000                        5.871572e+06   \n",
      "4996                          0.0000                        5.902408e+05   \n",
      "4997                          0.0000                        4.905303e+06   \n",
      "4998                          0.0000                        6.107195e+04   \n",
      "4999                          0.0000                        9.413522e+05   \n",
      "\n",
      "      quote.USD.tvl    quote.USD.last_updated  platform.id  \\\n",
      "0               NaN  2023-10-03T22:18:00.000Z          NaN   \n",
      "1               NaN  2023-10-03T22:18:00.000Z          NaN   \n",
      "2               NaN  2023-10-03T22:18:00.000Z       1027.0   \n",
      "3               NaN  2023-10-03T22:18:00.000Z          NaN   \n",
      "4               NaN  2023-10-03T22:18:00.000Z          NaN   \n",
      "...             ...                       ...          ...   \n",
      "4995            NaN  2023-10-03T22:18:00.000Z          NaN   \n",
      "4996            NaN  2023-10-03T22:18:00.000Z      11841.0   \n",
      "4997            NaN  2023-10-03T22:18:00.000Z       1839.0   \n",
      "4998            NaN  2023-10-03T22:18:00.000Z       1839.0   \n",
      "4999            NaN  2023-10-03T22:18:00.000Z       1839.0   \n",
      "\n",
      "                platform.name  platform.symbol  platform.slug  \\\n",
      "0                         NaN              NaN            NaN   \n",
      "1                         NaN              NaN            NaN   \n",
      "2                    Ethereum              ETH       ethereum   \n",
      "3                         NaN              NaN            NaN   \n",
      "4                         NaN              NaN            NaN   \n",
      "...                       ...              ...            ...   \n",
      "4995                      NaN              NaN            NaN   \n",
      "4996                 Arbitrum              ARB       arbitrum   \n",
      "4997  BNB Smart Chain (BEP20)              BNB            bnb   \n",
      "4998  BNB Smart Chain (BEP20)              BNB            bnb   \n",
      "4999  BNB Smart Chain (BEP20)              BNB            bnb   \n",
      "\n",
      "                          platform.token_address  \n",
      "0                                            NaN  \n",
      "1                                            NaN  \n",
      "2     0xdac17f958d2ee523a2206206994597c13d831ec7  \n",
      "3                                            NaN  \n",
      "4                                            NaN  \n",
      "...                                          ...  \n",
      "4995                                         NaN  \n",
      "4996  0xb4e3eeec43ebc04f28d31f2c021d15e9f56f0e54  \n",
      "4997  0x7317dA9c15303bfb434690586C3373B94fb2dd31  \n",
      "4998  0xc3c5586F10893280F00ceff931d74991682DBfF8  \n",
      "4999  0x485d37ca1c8d4e0b5b11b87604816a4843c079ed  \n",
      "\n",
      "[5000 rows x 36 columns]\n"
     ]
    }
   ],
   "source": [
    "def reset_date(str):\n",
    "    return str.split('T')[0]\n",
    "df['date_added'] = df['date_added'].apply(reset_date)\n",
    "print(df)\n",
    "df.to_csv('data.csv')"
   ]
  },
  {
   "cell_type": "markdown",
   "metadata": {},
   "source": [
    "Now some simple plots, for example, highest price"
   ]
  },
  {
   "cell_type": "code",
   "execution_count": 81,
   "metadata": {},
   "outputs": [
    {
     "data": {
      "image/png": "[encoded data removed]",
      "text/plain": [
       "<Figure size 432x288 with 1 Axes>"
      ]
     },
     "metadata": {
      "needs_background": "light"
     },
     "output_type": "display_data"
    },
    {
     "data": {
      "text/plain": [
       "<Figure size 2880x288 with 0 Axes>"
      ]
     },
     "metadata": {},
     "output_type": "display_data"
    }
   ],
   "source": [
    "from matplotlib import pyplot as plt\n",
    "df.sort_values(by = ['quote.USD.price'], ascending=False, inplace = True)\n",
    "plt.bar( df['symbol'].head(20),df['quote.USD.price'].head(20),color = 'blue', width=0.5)\n",
    "plt.xticks(rotation = 'vertical')\n",
    "plt.figure().set_figwidth(40)\n",
    "plt.show()"
   ]
  },
  {
   "cell_type": "markdown",
   "metadata": {},
   "source": [
    "Surprisingly BTC is not the most expensive of all these currencies. It is clear though, that most of them are BTC related."
   ]
  },
  {
   "cell_type": "markdown",
   "metadata": {},
   "source": [
    "Or, say change in percant of price in 24H"
   ]
  },
  {
   "cell_type": "code",
   "execution_count": 83,
   "metadata": {},
   "outputs": [
    {
     "data": {
      "image/png": "[encoded data removed]",
      "text/plain": [
       "<Figure size 432x288 with 1 Axes>"
      ]
     },
     "metadata": {
      "needs_background": "light"
     },
     "output_type": "display_data"
    },
    {
     "data": {
      "text/plain": [
       "<Figure size 2880x288 with 0 Axes>"
      ]
     },
     "metadata": {},
     "output_type": "display_data"
    }
   ],
   "source": [
    "df.sort_values(by = ['quote.USD.percent_change_24h'], ascending=False, inplace = True)\n",
    "plt.bar( df['symbol'].head(20),df['quote.USD.percent_change_24h'].head(20),color = 'blue', width=0.5)\n",
    "plt.xticks(rotation = 'vertical')\n",
    "plt.yscale('log')\n",
    "plt.figure().set_figwidth(40)\n",
    "plt.show()"
   ]
  },
  {
   "cell_type": "markdown",
   "metadata": {},
   "source": [
    "It really impresses me how some crytos' price can rise or drop in very short time lol. 1000 times higher price, huh.\n"
   ]
  },
  {
   "cell_type": "markdown",
   "metadata": {},
   "source": [
    "- a box plot of price"
   ]
  },
  {
   "cell_type": "code",
   "execution_count": 87,
   "metadata": {},
   "outputs": [
    {
     "data": {
      "image/png": "[encoded data removed]",
      "text/plain": [
       "<Figure size 432x288 with 1 Axes>"
      ]
     },
     "metadata": {
      "needs_background": "light"
     },
     "output_type": "display_data"
    }
   ],
   "source": [
    "plt.boxplot(df['quote.USD.price'])\n",
    "plt.show()"
   ]
  },
  {
   "cell_type": "markdown",
   "metadata": {},
   "source": [
    "Seems that most cryptos have very low prices. Only a few of them have prices that are higher than 10k."
   ]
  }
 ],
 "metadata": {
  "kernelspec": {
   "display_name": "Python 3.7.4 64-bit",
   "language": "python",
   "name": "python3"
  },
  "language_info": {
   "codemirror_mode": {
    "name": "ipython",
    "version": 3
   },
   "file_extension": ".py",
   "mimetype": "text/x-python",
   "name": "python",
   "nbconvert_exporter": "python",
   "pygments_lexer": "ipython3",
   "version": "3.7.4"
  },
  "orig_nbformat": 4,
  "vscode": {
   "interpreter": {
    "hash": "5109d816b82be14675a6b11f8e0f0d2e80f029176ed3710d54e125caa8520dfd"
   }
  }
 },
 "nbformat": 4,
 "nbformat_minor": 2
}
